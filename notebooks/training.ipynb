{
 "metadata": {
  "language_info": {
   "codemirror_mode": {
    "name": "ipython",
    "version": 3
   },
   "file_extension": ".py",
   "mimetype": "text/x-python",
   "name": "python",
   "nbconvert_exporter": "python",
   "pygments_lexer": "ipython3",
   "version": "3.8.2-final"
  },
  "orig_nbformat": 2,
  "kernelspec": {
   "name": "eugis",
   "display_name": "eugis"
  }
 },
 "nbformat": 4,
 "nbformat_minor": 2,
 "cells": [
  {
   "cell_type": "code",
   "execution_count": 1,
   "metadata": {},
   "outputs": [],
   "source": [
    "import sys\n",
    "import pathlib\n",
    "module_path = str(pathlib.Path().absolute()).replace('/notebooks', '')\n",
    "sys.path.append(module_path)"
   ]
  },
  {
   "cell_type": "code",
   "execution_count": null,
   "metadata": {},
   "outputs": [],
   "source": [
    "from scripts.jobs.dataset_creation import ReadRasterFile, CreateCompositeStridedArray, PreProcessBorderRaster, StoreCompositeDataHDF5, PreProcessPopulationRaster\n",
    "\n",
    "raster_dem_fn = '/mnt/share/mnt/RESEARCH/SATELLITE/WORK/dem_aggr_rst.tif'\n",
    "raster_pop_fn = '/mnt/share/mnt/RESEARCH/SATELLITE/WORK/pop_rst.tif'\n",
    "raster_nuts_fn = '/mnt/share/mnt/RESEARCH/SATELLITE/WORK/nuts_rst.tif'\n",
    "\n",
    "rasters = {\n",
    "    'pop': {\n",
    "        'type': 'input',\n",
    "        'data': PreProcessPopulationRaster(ReadRasterFile(raster_pop_fn)),\n",
    "        'bad_value_threshold': -1000\n",
    "    },\n",
    "    'nuts': {\n",
    "        'type': 'output',\n",
    "        'data': PreProcessBorderRaster(ReadRasterFile(raster_nuts_fn)),\n",
    "        'bad_value_threshold': -1000\n",
    "    }\n",
    "}\n",
    "(train_x, train_y), (test_x, test_y) = CreateCompositeStridedArray(rasters)\n",
    "\n",
    "for i in range(2):\n",
    "    selection_mask = [(x == i)[0] for x in train_y]\n",
    "    StoreCompositeDataHDF5(train_x[selection_mask], train_y[selection_mask], 'pop_nuts_train_' + str(i))\n",
    "    selection_mask = [(x == i)[0] for x in test_y]\n",
    "    StoreCompositeDataHDF5(test_x[selection_mask], test_y[selection_mask], 'pop_nuts_test_' + str(i))\n"
   ]
  },
  {
   "cell_type": "code",
   "execution_count": 2,
   "metadata": {
    "tags": []
   },
   "outputs": [
    {
     "output_type": "stream",
     "name": "stdout",
     "text": "Epoch 1/10\n100/100 [==============================] - 21s 215ms/step - loss: 24.7894 - mae: 0.2030 - mse: 0.1665 - accuracy: 0.8217 - val_loss: 0.3539 - val_mae: 0.1066 - val_mse: 0.0540 - val_accuracy: 0.9328\nEpoch 2/10\n100/100 [==============================] - 20s 199ms/step - loss: 0.2095 - mae: 0.0968 - mse: 0.0485 - accuracy: 0.9384 - val_loss: 0.1349 - val_mae: 0.0982 - val_mse: 0.0478 - val_accuracy: 0.9375\nEpoch 3/10\n100/100 [==============================] - 33s 326ms/step - loss: 0.1384 - mae: 0.0903 - mse: 0.0442 - accuracy: 0.9434 - val_loss: 0.1316 - val_mae: 0.0958 - val_mse: 0.0467 - val_accuracy: 0.9375\nEpoch 4/10\n100/100 [==============================] - 30s 296ms/step - loss: 0.1217 - mae: 0.0886 - mse: 0.0432 - accuracy: 0.9414 - val_loss: 0.1274 - val_mae: 0.0928 - val_mse: 0.0451 - val_accuracy: 0.9406\nEpoch 5/10\n100/100 [==============================] - 24s 238ms/step - loss: 0.1140 - mae: 0.0832 - mse: 0.0403 - accuracy: 0.9480 - val_loss: 0.1258 - val_mae: 0.0918 - val_mse: 0.0444 - val_accuracy: 0.9406\nEpoch 6/10\n100/100 [==============================] - 26s 260ms/step - loss: 0.1249 - mae: 0.0911 - mse: 0.0440 - accuracy: 0.9406 - val_loss: 0.1245 - val_mae: 0.0907 - val_mse: 0.0438 - val_accuracy: 0.9406\nEpoch 7/10\n100/100 [==============================] - 36s 356ms/step - loss: 0.1205 - mae: 0.0878 - mse: 0.0424 - accuracy: 0.9408 - val_loss: 0.1234 - val_mae: 0.0899 - val_mse: 0.0433 - val_accuracy: 0.9406\nEpoch 8/10\n100/100 [==============================] - 23s 230ms/step - loss: 0.1129 - mae: 0.0825 - mse: 0.0394 - accuracy: 0.9486 - val_loss: 0.1223 - val_mae: 0.0890 - val_mse: 0.0428 - val_accuracy: 0.9406\nEpoch 9/10\n100/100 [==============================] - 20s 198ms/step - loss: 0.1147 - mae: 0.0838 - mse: 0.0398 - accuracy: 0.9480 - val_loss: 0.1214 - val_mae: 0.0880 - val_mse: 0.0423 - val_accuracy: 0.9406\nEpoch 10/10\n100/100 [==============================] - 28s 275ms/step - loss: 0.1125 - mae: 0.0818 - mse: 0.0390 - accuracy: 0.9470 - val_loss: 0.1206 - val_mae: 0.0872 - val_mse: 0.0420 - val_accuracy: 0.9406\nWARNING:tensorflow:From /mnt/c/Development/virtualenv/eugis/lib/python3.8/site-packages/tensorflow/python/ops/resource_variable_ops.py:1813: calling BaseResourceVariable.__init__ (from tensorflow.python.ops.resource_variable_ops) with constraint is deprecated and will be removed in a future version.\nInstructions for updating:\nIf using Keras pass *_constraint arguments to layers.\nINFO:tensorflow:Assets written to: /mnt/share/mnt/RESEARCH/SATELLITE/WORK/pop_nuts_model/assets\n"
    }
   ],
   "source": [
    "\n",
    "from scripts.jobs.dataset_creation import CreateTFDatasetFromCompositeGenerator\n",
    "from scripts.jobs.networks.conv_classifier import TrainConvClassifierModel\n",
    "\n",
    "train_dataset = CreateTFDatasetFromCompositeGenerator('pop_nuts_train', 2)\n",
    "test_dataset = CreateTFDatasetFromCompositeGenerator('pop_nuts_test', 2)\n",
    "model, history = TrainConvClassifierModel(train_dataset, test_dataset)\n",
    "model.save('/mnt/share/mnt/RESEARCH/SATELLITE/WORK/pop_nuts_model') \n"
   ]
  },
  {
   "cell_type": "code",
   "execution_count": 4,
   "metadata": {},
   "outputs": [],
   "source": [
    "import tensorflow as tf\n",
    "from scripts.jobs.dataset_creation import ReadRasterFile, PreProcessPopulationRaster\n",
    "from scripts.jobs.model_prediction import PredictClassifierRaster, WriteResultRaster\n",
    "\n",
    "raster_fn = '/mnt/share/mnt/RESEARCH/SATELLITE/WORK/pop_rst.tif'\n",
    "model = tf.keras.models.load_model('/mnt/share/mnt/RESEARCH/SATELLITE/WORK/pop_nuts_model')\n",
    "\n",
    "a = PreProcessPopulationRaster(ReadRasterFile(raster_fn))\n",
    "\n",
    "data = PredictClassifierRaster(a, model)\n",
    "\n",
    "out_rst_fn = '/mnt/share/mnt/RESEARCH/SATELLITE/WORK/result_pop_nuts.tif'\n",
    "WriteResultRaster(data, raster_fn, out_rst_fn, channels=0)"
   ]
  },
  {
   "cell_type": "code",
   "execution_count": null,
   "metadata": {},
   "outputs": [],
   "source": [
    "from scripts.jobs.dataset_creation import ReadRasterFile, CreateCompositeStridedArray, PreProcessBorderRaster, StoreCompositeDataHDF5\n",
    "from matplotlib import pyplot\n",
    "\n",
    "raster_dem_fn = '/mnt/share/mnt/RESEARCH/SATELLITE/WORK/dem_aggr_rst.tif'\n",
    "raster_nuts_fn = '/mnt/share/mnt/RESEARCH/SATELLITE/WORK/pop_rst.tif'\n",
    "\n",
    "pyplot.imshow(ReadRasterFile(raster_dem_fn), cmap='viridis')\n",
    "pyplot.show()\n",
    "pyplot.imshow(ReadRasterFile(raster_nuts_fn), cmap='viridis')\n",
    "pyplot.show()"
   ]
  },
  {
   "cell_type": "code",
   "execution_count": null,
   "metadata": {
    "tags": []
   },
   "outputs": [],
   "source": [
    "a = ReadRasterFile('/mnt/share/mnt/RESEARCH/SATELLITE/WORK/pop_rst.tif')\n",
    "a[a < -10] = -10\n",
    "a[(a < 3) & (a > -10)] = 0\n",
    "a[a > 2] = 1\n",
    "pyplot.hist(a, bins='auto') \n",
    "pyplot.show()"
   ]
  },
  {
   "cell_type": "code",
   "execution_count": null,
   "metadata": {},
   "outputs": [],
   "source": []
  }
 ]
}