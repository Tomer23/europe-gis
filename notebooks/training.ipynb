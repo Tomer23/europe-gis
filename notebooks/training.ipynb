{
 "metadata": {
  "language_info": {
   "codemirror_mode": {
    "name": "ipython",
    "version": 3
   },
   "file_extension": ".py",
   "mimetype": "text/x-python",
   "name": "python",
   "nbconvert_exporter": "python",
   "pygments_lexer": "ipython3",
   "version": "3.8.2-final"
  },
  "orig_nbformat": 2,
  "kernelspec": {
   "name": "eugis",
   "display_name": "eugis"
  }
 },
 "nbformat": 4,
 "nbformat_minor": 2,
 "cells": [
  {
   "cell_type": "code",
   "execution_count": null,
   "metadata": {},
   "outputs": [],
   "source": [
    "import sys\n",
    "import pathlib\n",
    "module_path = str(pathlib.Path().absolute()).replace('/notebooks', '')\n",
    "sys.path.append(module_path)"
   ]
  },
  {
   "cell_type": "code",
   "execution_count": null,
   "metadata": {},
   "outputs": [],
   "source": [
    "import pickle\n",
    "import numpy as np\n",
    "from scripts.jobs.dataset_creation import ReadRasterFile, CreateStridedArray, PreProcessPopulationRaster, StoreDataHDF5\n",
    "\n",
    "raster_fn = '/mnt/share/mnt/RESEARCH/SATELLITE/WORK/pop_rst.tif'\n",
    "\n",
    "a = ReadRasterFile(raster_fn)\n",
    "a = PreProcessPopulationRaster(a)\n",
    "train, test = CreateStridedArray(a)\n",
    "StoreDataHDF5(train, 'pop_train')\n",
    "StoreDataHDF5(test, 'pop_test')\n"
   ]
  },
  {
   "cell_type": "code",
   "execution_count": null,
   "metadata": {
    "tags": []
   },
   "outputs": [],
   "source": [
    "\n",
    "from scripts.jobs.dataset_creation import CreateTFDatasetFromGenerator\n",
    "from scripts.jobs.model_training import TrainModel\n",
    "\n",
    "train_dataset = CreateTFDatasetFromGenerator('pop_train')\n",
    "test_dataset = CreateTFDatasetFromGenerator('pop_test')\n",
    "model = TrainModel(train_dataset, test_dataset)"
   ]
  },
  {
   "cell_type": "code",
   "execution_count": null,
   "metadata": {},
   "outputs": [],
   "source": []
  }
 ]
}