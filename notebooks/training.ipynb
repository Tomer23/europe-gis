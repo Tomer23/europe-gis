{
 "metadata": {
  "language_info": {
   "codemirror_mode": {
    "name": "ipython",
    "version": 3
   },
   "file_extension": ".py",
   "mimetype": "text/x-python",
   "name": "python",
   "nbconvert_exporter": "python",
   "pygments_lexer": "ipython3",
   "version": "3.8.2-final"
  },
  "orig_nbformat": 2,
  "kernelspec": {
   "name": "eugis",
   "display_name": "eugis"
  }
 },
 "nbformat": 4,
 "nbformat_minor": 2,
 "cells": [
  {
   "cell_type": "code",
   "execution_count": null,
   "metadata": {},
   "outputs": [],
   "source": [
    "import sys\n",
    "import pathlib\n",
    "module_path = str(pathlib.Path().absolute()).replace('/notebooks', '')\n",
    "sys.path.append(module_path)"
   ]
  },
  {
   "cell_type": "code",
   "execution_count": null,
   "metadata": {},
   "outputs": [],
   "source": [
    "import pickle\n",
    "import numpy as np\n",
    "from scripts.jobs.dataset_creation import ReadRasterFile, CreateStridedArray, CreateTFDataset, PreProcessPopulationRaster, StoreDataHDF5\n",
    "from scripts.jobs.model_training import TrainModel\n",
    "\n",
    "raster_fn = '/mnt/share/mnt/RESEARCH/SATELLITE/WORK/pop_rst.tif'\n",
    "\n",
    "a = ReadRasterFile(raster_fn)\n",
    "a = PreProcessPopulationRaster(a)\n",
    "train, test = CreateStridedArray(a)\n",
    "StoreDataHDF5(train)\n",
    "train_dataset = CreateTFDataset()\n"
   ]
  },
  {
   "cell_type": "code",
   "execution_count": null,
   "metadata": {},
   "outputs": [],
   "source": [
    "import pickle\n",
    "import numpy as np\n",
    "from scripts.jobs.dataset_creation import ReadRasterFile, CreateStridedArray, CreateTFDataset, PreProcessPopulationRaster\n",
    "from scripts.jobs.model_training import TrainModel\n",
    "\n",
    "raster_fn = '/mnt/share/mnt/RESEARCH/SATELLITE/WORK/pop_rst.tif'\n",
    "\n",
    "a = ReadRasterFile(raster_fn)\n",
    "a = PreProcessPopulationRaster(a)\n",
    "input_array = CreateStridedArray(a)\n",
    "\n",
    "with open(r\"test.pickle\", \"wb\") as output_file:\n",
    "    pickle.dump(input_array, output_file)\n",
    "with open(r\"test.pickle\", \"rb\") as input_file:\n",
    "    input_array = pickle.load(input_file)\n",
    "\n",
    "train_dataset, test_dataset = CreateTFDataset(input_array)\n",
    "model = TrainModel(train_dataset, test_dataset)"
   ]
  },
  {
   "cell_type": "code",
   "execution_count": null,
   "metadata": {},
   "outputs": [],
   "source": []
  }
 ]
}