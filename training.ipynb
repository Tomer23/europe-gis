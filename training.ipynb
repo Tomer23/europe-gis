{
 "metadata": {
  "language_info": {
   "codemirror_mode": {
    "name": "ipython",
    "version": 3
   },
   "file_extension": ".py",
   "mimetype": "text/x-python",
   "name": "python",
   "nbconvert_exporter": "python",
   "pygments_lexer": "ipython3",
   "version": "3.8.2-final"
  },
  "orig_nbformat": 2,
  "kernelspec": {
   "name": "eugis",
   "display_name": "eugis"
  }
 },
 "nbformat": 4,
 "nbformat_minor": 2,
 "cells": [
  {
   "cell_type": "code",
   "execution_count": null,
   "metadata": {},
   "outputs": [],
   "source": [
    "import sys\n",
    "import pathlib\n",
    "module_path = str(pathlib.Path().absolute()).replace('/notebooks', '')\n",
    "sys.path.append(module_path)"
   ]
  },
  {
   "cell_type": "code",
   "execution_count": null,
   "metadata": {
    "tags": []
   },
   "outputs": [],
   "source": [
    "from scripts.jobs.dataset_creation import ReadRasterFile, StridedArrayGenerator, PreProcessBorderRaster, StoreCompositeDataHDF5, PreProcessPopulationRaster\n",
    "\n",
    "raster_dem_fn = '/mnt/share/mnt/RESEARCH/SATELLITE/WORK/dem_aggr_rst.tif'\n",
    "raster_pop_fn = '/mnt/share/mnt/RESEARCH/SATELLITE/WORK/pop_rst.tif'\n",
    "raster_nuts_fn = '/mnt/share/mnt/RESEARCH/SATELLITE/WORK/nuts_rst.tif'\n",
    "\n",
    "model_name = 'pop_nuts'\n",
    "\n",
    "rasters = {\n",
    "    'pop': {\n",
    "        'type': 'input',\n",
    "        'data': PreProcessPopulationRaster(ReadRasterFile(raster_pop_fn)),\n",
    "        'bad_value_threshold': -1000\n",
    "    },\n",
    "    'nuts': {\n",
    "        'type': 'output',\n",
    "        'data': PreProcessBorderRaster(ReadRasterFile(raster_nuts_fn), bad_value=-1),\n",
    "        'bad_value_threshold': -1\n",
    "    }\n",
    "}\n",
    "strided_generator = StridedArrayGenerator(rasters, window_size = 100)\n",
    "step = 0\n",
    "while True:\n",
    "    (train_x, train_y), (test_x, test_y) = next(strided_generator)\n",
    "    if train_x.shape[0] == 0:\n",
    "        break\n",
    "    else:\n",
    "        for i in range(2):\n",
    "            selection_mask = [(x == i)[0] for x in train_y]\n",
    "            StoreCompositeDataHDF5(train_x[selection_mask], train_y[selection_mask], model_name + '_train_' + str(i) + '_' + str(step))\n",
    "            selection_mask = [(x == i)[0] for x in test_y]\n",
    "            StoreCompositeDataHDF5(test_x[selection_mask], test_y[selection_mask], model_name + '_test_' + str(i) + '_' + str(step))\n",
    "        step += 1\n"
   ]
  },
  {
   "cell_type": "code",
   "execution_count": null,
   "metadata": {
    "tags": []
   },
   "outputs": [],
   "source": [
    "\n",
    "from scripts.jobs.dataset_creation import CreateTFDatasetFromCompositeGenerator\n",
    "from scripts.jobs.networks.conv_classifier import TrainConvClassifierModel\n",
    "\n",
    "model_name = 'pop_nuts'\n",
    "\n",
    "train_dataset = CreateTFDatasetFromCompositeGenerator(model_name + '_train', 2, batch_size = 8, window_size = 100)\n",
    "test_dataset = CreateTFDatasetFromCompositeGenerator(model_name + '_test', 2, batch_size = 8, window_size = 100)\n",
    "\n",
    "model, history = TrainConvClassifierModel(train_dataset, test_dataset, num_epochs = 10, steps_per_epoch = 1000)  # int(round(500000 / 64, 0)))\n",
    "model.save('/mnt/share/mnt/RESEARCH/SATELLITE/WORK/' + model_name + '_model') \n"
   ]
  },
  {
   "cell_type": "code",
   "execution_count": 1,
   "metadata": {
    "tags": []
   },
   "outputs": [],
   "source": [
    "from scripts.jobs.dataset_creation import CreateTFDatasetFromInMemoryGenerator, InMemoryStridedArrayGenerator\n",
    "from scripts.jobs.networks.conv_classifier import TrainConvClassifierModel\n",
    "from scripts.jobs.dataset_creation import ReadRasterFile, PreProcessBorderRaster, PreProcessPopulationRaster, PreProcessLogarithmPopulationRaster,PreprocessForResnet, PreProcessWWRaster\n",
    "from scripts.jobs.networks.siamese import resnet, simple_resnet\n",
    "\n",
    "raster_ww_fn = '/mnt/share/mnt/RESEARCH/SATELLITE/WORK/ww_aggr_rst.tif'\n",
    "raster_dem_fn = '/mnt/share/mnt/RESEARCH/SATELLITE/WORK/dem_aggr_rst.tif'\n",
    "raster_pop_fn = '/mnt/share/mnt/RESEARCH/SATELLITE/WORK/pop_rst.tif'\n",
    "raster_nuts_fn = '/mnt/share/mnt/RESEARCH/SATELLITE/WORK/nuts_rst.tif'\n",
    "\n",
    "model_name = 'dem_pop_ww_nuts'\n",
    "\n",
    "rasters = {\n",
    "    'dem': {\n",
    "        'type': 'input',\n",
    "        'data': PreprocessForResnet(ReadRasterFile(raster_dem_fn)),\n",
    "        'bad_value_threshold': -1000\n",
    "    },\n",
    "    'pop': {\n",
    "        'type': 'input',\n",
    "        'data': PreprocessForResnet(PreProcessLogarithmPopulationRaster(PreProcessPopulationRaster(ReadRasterFile(raster_pop_fn)))),\n",
    "        'bad_value_threshold': -1000\n",
    "    },\n",
    "    'ww': {\n",
    "        'type': 'input',\n",
    "        'data': PreprocessForResnet(PreProcessWWRaster(ReadRasterFile(raster_ww_fn))),\n",
    "        'bad_value_threshold': -1000\n",
    "    },\n",
    "    'nuts': {\n",
    "        'type': 'output',\n",
    "        'data': PreProcessBorderRaster(ReadRasterFile(raster_nuts_fn), bad_value=-1),\n",
    "        'bad_value_threshold': -1\n",
    "    }\n",
    "}\n",
    "gen = InMemoryStridedArrayGenerator(rasters, window_size = 100)\n",
    "train_dataset = CreateTFDatasetFromInMemoryGenerator(gen, batch_size = 64, window_size = 100, channel_n = 3)\n",
    "# internal_model = resnet(['pop'], hidden_layer_size = 100, input_size = 100)\n",
    "internal_model = simple_resnet(input_size = 100, channel_n = 3)\n",
    "internal_model = None\n",
    "\n",
    "model, history = TrainConvClassifierModel(\n",
    "    train_dataset,\n",
    "    train_dataset,\n",
    "    num_epochs = 30,\n",
    "    steps_per_epoch = 10000,\n",
    "    internal_model = internal_model\n",
    ")\n",
    "model.save('/mnt/share/mnt/RESEARCH/SATELLITE/WORK/' + model_name + '_model') "
   ]
  },
  {
   "cell_type": "code",
   "execution_count": 1,
   "metadata": {
    "tags": []
   },
   "outputs": [
    {
     "output_type": "error",
     "ename": "AttributeError",
     "evalue": "module 'scripts.jobs.dataset_creation' has no attribute 'PreProcessDEMRaster'",
     "traceback": [
      "\u001b[0;31m---------------------------------------------------------------------------\u001b[0m",
      "\u001b[0;31mAttributeError\u001b[0m                            Traceback (most recent call last)",
      "\u001b[0;32m<ipython-input-1-21150a044659>\u001b[0m in \u001b[0;36m<module>\u001b[0;34m\u001b[0m\n\u001b[1;32m     20\u001b[0m     'dem': {\n\u001b[1;32m     21\u001b[0m         \u001b[0;34m'type'\u001b[0m\u001b[0;34m:\u001b[0m \u001b[0;34m'input'\u001b[0m\u001b[0;34m,\u001b[0m\u001b[0;34m\u001b[0m\u001b[0;34m\u001b[0m\u001b[0m\n\u001b[0;32m---> 22\u001b[0;31m         \u001b[0;34m'data'\u001b[0m\u001b[0;34m:\u001b[0m \u001b[0mdataset_creation\u001b[0m\u001b[0;34m.\u001b[0m\u001b[0mPreprocessForResnet\u001b[0m\u001b[0;34m(\u001b[0m\u001b[0mdataset_creation\u001b[0m\u001b[0;34m.\u001b[0m\u001b[0mPreProcessDEMRaster\u001b[0m\u001b[0;34m(\u001b[0m\u001b[0mdataset_creation\u001b[0m\u001b[0;34m.\u001b[0m\u001b[0mReadRasterFile\u001b[0m\u001b[0;34m(\u001b[0m\u001b[0mraster_dem_fn\u001b[0m\u001b[0;34m)\u001b[0m\u001b[0;34m)\u001b[0m\u001b[0;34m)\u001b[0m\u001b[0;34m,\u001b[0m\u001b[0;34m\u001b[0m\u001b[0;34m\u001b[0m\u001b[0m\n\u001b[0m\u001b[1;32m     23\u001b[0m         \u001b[0;34m'bad_value_threshold'\u001b[0m\u001b[0;34m:\u001b[0m \u001b[0;34m-\u001b[0m\u001b[0;36m1000\u001b[0m\u001b[0;34m\u001b[0m\u001b[0;34m\u001b[0m\u001b[0m\n\u001b[1;32m     24\u001b[0m     },\n",
      "\u001b[0;31mAttributeError\u001b[0m: module 'scripts.jobs.dataset_creation' has no attribute 'PreProcessDEMRaster'"
     ]
    }
   ],
   "source": [
    "from scripts.jobs.dataset_creation import CreateTFDatasetFromInMemoryGenerator, InMemoryStridedArrayGenerator, create_generator_sequence\n",
    "from scripts.jobs.networks.conv_classifier import TrainConvClassifierModel\n",
    "import scripts.jobs.dataset_creation as dataset_creation\n",
    "from scripts.jobs.networks.siamese import resnet, simple_resnet, simple_vgg\n",
    "\n",
    "raster_ww_fn = '/mnt/share/mnt/RESEARCH/SATELLITE/WORK/ww_aggr_rst.tif'\n",
    "raster_dem_fn = '/mnt/share/mnt/RESEARCH/SATELLITE/WORK/dem_aggr_rst.tif'\n",
    "raster_pop_fn = '/mnt/share/mnt/RESEARCH/SATELLITE/WORK/pop_rst.tif'\n",
    "raster_nuts_fn = '/mnt/share/mnt/RESEARCH/SATELLITE/WORK/nuts_rst.tif'\n",
    "\n",
    "model_name = 'dem_pop_ww_nuts'\n",
    "window_size = 100\n",
    "\n",
    "rasters = {\n",
    "    'pop': {\n",
    "        'type': 'input',\n",
    "        'data': dataset_creation.PreprocessForResnet(dataset_creation.PreProcessLogarithmPopulationRaster(dataset_creation.PreProcessPopulationRaster(dataset_creation.ReadRasterFile(raster_pop_fn)))),\n",
    "        'bad_value_threshold': -1000\n",
    "    },\n",
    "    'dem': {\n",
    "        'type': 'input',\n",
    "        'data': dataset_creation.PreprocessForResnet(dataset_creation.PreprocessDEMRaster(dataset_creation.ReadRasterFile(raster_dem_fn))),\n",
    "        'bad_value_threshold': -1000\n",
    "    },\n",
    "    'ww': {\n",
    "        'type': 'input',\n",
    "        'data': dataset_creation.PreprocessForResnet(dataset_creation.PreProcessWWRaster(dataset_creation.ReadRasterFile(raster_ww_fn))),\n",
    "        'bad_value_threshold': -1000\n",
    "    },\n",
    "    'nuts': {\n",
    "        'type': 'output',\n",
    "        'data': dataset_creation.PreProcessBorderRaster(dataset_creation.ReadRasterFile(raster_nuts_fn), bad_value=-1),\n",
    "        'bad_value_threshold': -1\n",
    "    }\n",
    "}\n",
    "\n",
    "generator_sequence = create_generator_sequence(rasters, window_size = window_size)\n",
    "train_size = int(len(generator_sequence) * 0.8)\n",
    "\n",
    "train_gen = InMemoryStridedArrayGenerator(rasters, window_size = window_size, generator_sequence = generator_sequence[0:5000])\n",
    "train_dataset = CreateTFDatasetFromInMemoryGenerator(train_gen, batch_size = 64, window_size = window_size, channel_n = 3)\n",
    "test_gen = InMemoryStridedArrayGenerator(rasters, window_size = window_size, generator_sequence = generator_sequence[train_size:])\n",
    "test_dataset = CreateTFDatasetFromInMemoryGenerator(test_gen, batch_size = 64, window_size = window_size, channel_n = 3)\n",
    "# internal_model = resnet(['pop'], hidden_layer_size = 100, input_size = 100)\n",
    "# internal_model = simple_resnet(input_size = window_size, channel_n = 3)\n",
    "internal_model = simple_vgg(input_size = window_size, channel_n = 3)\n",
    "\n",
    "model, history = TrainConvClassifierModel(\n",
    "    train_dataset,\n",
    "    test_dataset,\n",
    "    num_epochs = 10,\n",
    "    steps_per_epoch = 1000,\n",
    "    internal_model = internal_model\n",
    ")\n",
    "\n",
    "model.save('/mnt/share/mnt/RESEARCH/SATELLITE/WORK/' + model_name + '_model') "
   ]
  },
  {
   "cell_type": "code",
   "execution_count": null,
   "metadata": {},
   "outputs": [],
   "source": [
    "import tensorflow as tf\n",
    "import numpy as np\n",
    "from scripts.jobs.dataset_creation import ReadRasterFile, PreProcessPopulationRaster, PreProcessLogarithmPopulationRaster, PreprocessForResnet\n",
    "from scripts.jobs.model_prediction import PredictClassifierRaster, WriteResultRaster\n",
    "\n",
    "model_name = 'dem_pop_ww_nuts'\n",
    "\n",
    "raster_pop_fn = '/mnt/share/mnt/RESEARCH/SATELLITE/WORK/pop_rst.tif'\n",
    "model = tf.keras.models.load_model('/mnt/share/mnt/RESEARCH/SATELLITE/WORK/' + model_name + '_model') \n",
    "\n",
    "a = PreprocessForResnet(PreProcessLogarithmPopulationRaster(PreProcessPopulationRaster(ReadRasterFile(raster_pop_fn))))\n",
    "a = np.stack([a] * 3, axis = -1)\n",
    "\n",
    "data = PredictClassifierRaster(a, model, stride = 33, channel_n = 3)\n",
    "\n",
    "out_rst_fn = '/mnt/share/mnt/RESEARCH/SATELLITE/WORK/result_pop_nuts.tif'\n",
    "WriteResultRaster(data, raster_fn, out_rst_fn, channels=0)"
   ]
  },
  {
   "cell_type": "code",
   "execution_count": null,
   "metadata": {
    "tags": []
   },
   "outputs": [],
   "source": [
    "from scripts.jobs.dataset_creation import ReadRasterFile, PreProcessBorderRaster, StoreCompositeDataHDF5, PreProcessPopulationRaster, PreprocessForResnet, PreProcessLogarithmPopulationRaster, PreProcessDEMRaster\n",
    "from matplotlib import pyplot\n",
    "\n",
    "raster_nuts_fn = '/mnt/share/mnt/RESEARCH/SATELLITE/WORK/nuts_rst.tif'\n",
    "raster_dem_fn = '/mnt/share/mnt/RESEARCH/SATELLITE/WORK/dem_aggr_rst.tif'\n",
    "raster_pop_fn = '/mnt/share/mnt/RESEARCH/SATELLITE/WORK/pop_rst.tif'\n",
    "\n",
    "pyplot.figure(figsize = (10,10))\n",
    "a = PreProcessBorderRaster(ReadRasterFile(raster_nuts_fn), bad_value = -1)\n",
    "pyplot.imshow(a, cmap='tab10')\n",
    "pyplot.show()\n",
    "\n",
    "pyplot.figure(figsize = (10,10))\n",
    "pyplot.imshow(PreprocessForResnet(PreProcessLogarithmPopulationRaster(PreProcessPopulationRaster(ReadRasterFile(raster_pop_fn)))), cmap='viridis')  # viridis\n",
    "pyplot.show()\n",
    "pyplot.figure(figsize = (10,10))\n",
    "a = PreprocessForResnet(PreProcessDEMRaster(ReadRasterFile(raster_dem_fn)))\n",
    "pyplot.imshow(a, cmap='viridis')\n",
    "pyplot.show()\n"
   ]
  },
  {
   "cell_type": "code",
   "execution_count": null,
   "metadata": {
    "tags": []
   },
   "outputs": [],
   "source": [
    "a = ReadRasterFile('/mnt/share/mnt/RESEARCH/SATELLITE/WORK/pop_rst.tif')\n",
    "a[a < -10] = -10\n",
    "a[(a < 3) & (a > -10)] = 0\n",
    "a[a > 2] = 1\n",
    "pyplot.hist(a, bins='auto') \n",
    "pyplot.show()"
   ]
  },
  {
   "cell_type": "code",
   "execution_count": null,
   "metadata": {},
   "outputs": [],
   "source": []
  }
 ]
}